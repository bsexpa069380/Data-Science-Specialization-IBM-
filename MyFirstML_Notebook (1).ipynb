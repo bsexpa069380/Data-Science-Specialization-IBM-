{
 "cells": [
  {
   "cell_type": "markdown",
   "metadata": {
    "collapsed": true
   },
   "source": [
    "# My Jupyter Notebook on IBM Watson Studio #"
   ]
  },
  {
   "cell_type": "markdown",
   "metadata": {},
   "source": [
    "My name is **James Yu** ,  and I am desired to get a job as a data scientist. This is the **introduction** for this notbook, which is mainly replying the questions of the peer reviewed assignment."
   ]
  },
  {
   "cell_type": "markdown",
   "metadata": {},
   "source": [
    "**Exercise 4 - data science languages**\n",
    "The popular languages of data science are\n",
    "1. python \n",
    "2. SQL\n",
    "3. R"
   ]
  },
  {
   "cell_type": "markdown",
   "metadata": {},
   "source": [
    "**Exercise 5 - data science Libaries**\n",
    "***\n",
    "The libaries commonly used in data science are\n",
    "1. Tensor Flow\n",
    "2. Numpy\n",
    "3. SciPy\n",
    "4. Pandas\n",
    "5. Matplotlib\n",
    "6. Keras"
   ]
  },
  {
   "cell_type": "markdown",
   "metadata": {},
   "source": [
    "**Exercise 6 - data science Tools**\n",
    "***\n",
    "|Table of Data Science Tools | Tool Name|\n",
    "|---|---|\n",
    "|1|Apache Spark|\n",
    "|2|IBM SPSS|\n",
    "|3|Julia|\n",
    "|4|Jupyter NoteBook|\n",
    "|5|H2O AI cloud|\n",
    "|6|Big ML|\n",
    "\n",
    "**there are other tools that not mentioned, just listed several for an example**"
   ]
  },
  {
   "cell_type": "markdown",
   "metadata": {},
   "source": [
    "**Exercise 7 - arithmetic expression**\n",
    "***\n",
    "An arithmetic expression is an expression built up using numbers, arithmetic operators (such as +, *, -, / ) and parentheses, \"(\" and \")\".    Arithmetic expressions may also make use of exponents."
   ]
  },
  {
   "cell_type": "code",
   "execution_count": 10,
   "metadata": {},
   "outputs": [
    {
     "name": "stdout",
     "output_type": "stream",
     "text": [
      "Result of Multi =  13860\n",
      "\n",
      "Result of add = 115\n"
     ]
    }
   ],
   "source": [
    "## Exercise 8 - Code Cell multi & add Numbers ##\n",
    "def Multi(a,*args):\n",
    "    result = a\n",
    "    for i in args:\n",
    "        result*= i\n",
    "    return result\n",
    "def add(a, *args):\n",
    "    result = a\n",
    "    for i in args:\n",
    "        result+= i\n",
    "    return result\n",
    "print(f'Result of Multi =  {Multi(4,5,7,99)}\\n')\n",
    "print(f'Result of add = {add(4,5,7,99)}')\n"
   ]
  },
  {
   "cell_type": "code",
   "execution_count": 13,
   "metadata": {},
   "outputs": [
    {
     "name": "stdout",
     "output_type": "stream",
     "text": [
      "Result of Exercise 9 = 1.9166666666666667\n",
      "Which is 1 hours and 55 minutes\n"
     ]
    }
   ],
   "source": [
    "## Exercise 9 - Code Cell minutes to hour converter ##\n",
    "def MtoH(a):\n",
    "    result = []\n",
    "    result.append(a/60)\n",
    "    result.append(a%60)\n",
    "    return result\n",
    "print(f'Result of Exercise 9 = {MtoH(115)[0]}')\n",
    "print(f'Which is {int(MtoH(115)[0])} hours and {MtoH(115)[1]} minutes')"
   ]
  },
  {
   "cell_type": "markdown",
   "metadata": {},
   "source": [
    "**Exercise 10 - Objectives**\n",
    "***\n",
    "- Jupyter Notebook\n",
    "- IBM SPSS\n",
    "- Waston studio \n",
    "- Machine learning with tools."
   ]
  },
  {
   "cell_type": "markdown",
   "metadata": {},
   "source": [
    "**Exercise 11 - Author**\n",
    "***\n",
    "James Yu, 2023.03.28"
   ]
  },
  {
   "cell_type": "code",
   "execution_count": null,
   "metadata": {},
   "outputs": [],
   "source": []
  }
 ],
 "metadata": {
  "kernelspec": {
   "display_name": "Python 3.10",
   "language": "python",
   "name": "python3"
  },
  "language_info": {
   "codemirror_mode": {
    "name": "ipython",
    "version": 3
   },
   "file_extension": ".py",
   "mimetype": "text/x-python",
   "name": "python",
   "nbconvert_exporter": "python",
   "pygments_lexer": "ipython3",
   "version": "3.10.9"
  }
 },
 "nbformat": 4,
 "nbformat_minor": 1
}
